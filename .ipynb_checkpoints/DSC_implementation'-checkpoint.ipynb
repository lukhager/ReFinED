{
 "cells": [
  {
   "cell_type": "markdown",
   "id": "1667ee42-c6e1-4aa0-b6f7-8b5a0ea8f4aa",
   "metadata": {},
   "source": [
    "## Installing Dependencies"
   ]
  },
  {
   "cell_type": "code",
   "execution_count": 1,
   "id": "cf3a8e20-a25a-4a5c-bd97-999bed107816",
   "metadata": {},
   "outputs": [
    {
     "name": "stdout",
     "output_type": "stream",
     "text": [
      "Requirement already satisfied: requests in /Users/lukas/Library/jupyterlab-desktop/jlab_server/lib/python3.8/site-packages (from -r requirements.txt (line 1)) (2.31.0)\n",
      "Requirement already satisfied: torch>=1.12.1 in /Users/lukas/Library/jupyterlab-desktop/jlab_server/lib/python3.8/site-packages (from -r requirements.txt (line 2)) (2.0.1)\n",
      "Requirement already satisfied: numpy>=1.15.4 in /Users/lukas/Library/jupyterlab-desktop/jlab_server/lib/python3.8/site-packages (from -r requirements.txt (line 3)) (1.24.4)\n",
      "Requirement already satisfied: nltk>=3.5 in /Users/lukas/Library/jupyterlab-desktop/jlab_server/lib/python3.8/site-packages (from -r requirements.txt (line 4)) (3.8.1)\n",
      "Requirement already satisfied: urllib3>=1.25.8 in /Users/lukas/Library/jupyterlab-desktop/jlab_server/lib/python3.8/site-packages (from -r requirements.txt (line 5)) (1.26.16)\n",
      "Requirement already satisfied: Unidecode>=1.1.1 in /Users/lukas/Library/jupyterlab-desktop/jlab_server/lib/python3.8/site-packages (from -r requirements.txt (line 6)) (1.3.6)\n",
      "Requirement already satisfied: ujson in /Users/lukas/Library/jupyterlab-desktop/jlab_server/lib/python3.8/site-packages (from -r requirements.txt (line 7)) (5.8.0)\n",
      "Requirement already satisfied: tqdm in /Users/lukas/Library/jupyterlab-desktop/jlab_server/lib/python3.8/site-packages (from -r requirements.txt (line 8)) (4.66.1)\n",
      "Requirement already satisfied: transformers>=4.2.2 in /Users/lukas/Library/jupyterlab-desktop/jlab_server/lib/python3.8/site-packages (from -r requirements.txt (line 9)) (4.32.1)\n",
      "Requirement already satisfied: tensorboard in /Users/lukas/Library/jupyterlab-desktop/jlab_server/lib/python3.8/site-packages (from -r requirements.txt (line 10)) (2.14.0)\n",
      "Requirement already satisfied: Cython in /Users/lukas/Library/jupyterlab-desktop/jlab_server/lib/python3.8/site-packages (from -r requirements.txt (line 11)) (3.0.2)\n",
      "Requirement already satisfied: lmdb>=1.0 in /Users/lukas/Library/jupyterlab-desktop/jlab_server/lib/python3.8/site-packages (from -r requirements.txt (line 12)) (1.4.1)\n",
      "Requirement already satisfied: boto3 in /Users/lukas/Library/jupyterlab-desktop/jlab_server/lib/python3.8/site-packages (from -r requirements.txt (line 13)) (1.28.36)\n",
      "Requirement already satisfied: prettyprint in /Users/lukas/Library/jupyterlab-desktop/jlab_server/lib/python3.8/site-packages (from -r requirements.txt (line 14)) (0.1.5)\n",
      "Requirement already satisfied: botocore in /Users/lukas/Library/jupyterlab-desktop/jlab_server/lib/python3.8/site-packages (from -r requirements.txt (line 15)) (1.31.36)\n",
      "Requirement already satisfied: charset-normalizer<4,>=2 in /Users/lukas/Library/jupyterlab-desktop/jlab_server/lib/python3.8/site-packages (from requests->-r requirements.txt (line 1)) (3.2.0)\n",
      "Requirement already satisfied: idna<4,>=2.5 in /Users/lukas/Library/jupyterlab-desktop/jlab_server/lib/python3.8/site-packages (from requests->-r requirements.txt (line 1)) (3.4)\n",
      "Requirement already satisfied: certifi>=2017.4.17 in /Users/lukas/Library/jupyterlab-desktop/jlab_server/lib/python3.8/site-packages (from requests->-r requirements.txt (line 1)) (2023.7.22)\n",
      "Requirement already satisfied: filelock in /Users/lukas/Library/jupyterlab-desktop/jlab_server/lib/python3.8/site-packages (from torch>=1.12.1->-r requirements.txt (line 2)) (3.12.3)\n",
      "Requirement already satisfied: typing-extensions in /Users/lukas/Library/jupyterlab-desktop/jlab_server/lib/python3.8/site-packages (from torch>=1.12.1->-r requirements.txt (line 2)) (4.7.1)\n",
      "Requirement already satisfied: sympy in /Users/lukas/Library/jupyterlab-desktop/jlab_server/lib/python3.8/site-packages (from torch>=1.12.1->-r requirements.txt (line 2)) (1.12)\n",
      "Requirement already satisfied: networkx in /Users/lukas/Library/jupyterlab-desktop/jlab_server/lib/python3.8/site-packages (from torch>=1.12.1->-r requirements.txt (line 2)) (3.1)\n",
      "Requirement already satisfied: jinja2 in /Users/lukas/Library/jupyterlab-desktop/jlab_server/lib/python3.8/site-packages (from torch>=1.12.1->-r requirements.txt (line 2)) (3.1.2)\n",
      "Requirement already satisfied: click in /Users/lukas/Library/jupyterlab-desktop/jlab_server/lib/python3.8/site-packages (from nltk>=3.5->-r requirements.txt (line 4)) (8.1.7)\n",
      "Requirement already satisfied: joblib in /Users/lukas/Library/jupyterlab-desktop/jlab_server/lib/python3.8/site-packages (from nltk>=3.5->-r requirements.txt (line 4)) (1.3.2)\n",
      "Requirement already satisfied: regex>=2021.8.3 in /Users/lukas/Library/jupyterlab-desktop/jlab_server/lib/python3.8/site-packages (from nltk>=3.5->-r requirements.txt (line 4)) (2023.8.8)\n",
      "Requirement already satisfied: huggingface-hub<1.0,>=0.15.1 in /Users/lukas/Library/jupyterlab-desktop/jlab_server/lib/python3.8/site-packages (from transformers>=4.2.2->-r requirements.txt (line 9)) (0.16.4)\n",
      "Requirement already satisfied: packaging>=20.0 in /Users/lukas/Library/jupyterlab-desktop/jlab_server/lib/python3.8/site-packages (from transformers>=4.2.2->-r requirements.txt (line 9)) (23.1)\n",
      "Requirement already satisfied: pyyaml>=5.1 in /Users/lukas/Library/jupyterlab-desktop/jlab_server/lib/python3.8/site-packages (from transformers>=4.2.2->-r requirements.txt (line 9)) (6.0)\n",
      "Requirement already satisfied: tokenizers!=0.11.3,<0.14,>=0.11.1 in /Users/lukas/Library/jupyterlab-desktop/jlab_server/lib/python3.8/site-packages (from transformers>=4.2.2->-r requirements.txt (line 9)) (0.13.3)\n",
      "Requirement already satisfied: safetensors>=0.3.1 in /Users/lukas/Library/jupyterlab-desktop/jlab_server/lib/python3.8/site-packages (from transformers>=4.2.2->-r requirements.txt (line 9)) (0.3.3)\n",
      "Requirement already satisfied: absl-py>=0.4 in /Users/lukas/Library/jupyterlab-desktop/jlab_server/lib/python3.8/site-packages (from tensorboard->-r requirements.txt (line 10)) (1.4.0)\n",
      "Requirement already satisfied: grpcio>=1.48.2 in /Users/lukas/Library/jupyterlab-desktop/jlab_server/lib/python3.8/site-packages (from tensorboard->-r requirements.txt (line 10)) (1.57.0)\n",
      "Requirement already satisfied: google-auth<3,>=1.6.3 in /Users/lukas/Library/jupyterlab-desktop/jlab_server/lib/python3.8/site-packages (from tensorboard->-r requirements.txt (line 10)) (2.22.0)\n",
      "Requirement already satisfied: google-auth-oauthlib<1.1,>=0.5 in /Users/lukas/Library/jupyterlab-desktop/jlab_server/lib/python3.8/site-packages (from tensorboard->-r requirements.txt (line 10)) (1.0.0)\n",
      "Requirement already satisfied: markdown>=2.6.8 in /Users/lukas/Library/jupyterlab-desktop/jlab_server/lib/python3.8/site-packages (from tensorboard->-r requirements.txt (line 10)) (3.4.4)\n",
      "Requirement already satisfied: protobuf>=3.19.6 in /Users/lukas/Library/jupyterlab-desktop/jlab_server/lib/python3.8/site-packages (from tensorboard->-r requirements.txt (line 10)) (4.24.2)\n",
      "Requirement already satisfied: setuptools>=41.0.0 in /Users/lukas/Library/jupyterlab-desktop/jlab_server/lib/python3.8/site-packages (from tensorboard->-r requirements.txt (line 10)) (68.0.0)\n",
      "Requirement already satisfied: tensorboard-data-server<0.8.0,>=0.7.0 in /Users/lukas/Library/jupyterlab-desktop/jlab_server/lib/python3.8/site-packages (from tensorboard->-r requirements.txt (line 10)) (0.7.1)\n",
      "Requirement already satisfied: werkzeug>=1.0.1 in /Users/lukas/Library/jupyterlab-desktop/jlab_server/lib/python3.8/site-packages (from tensorboard->-r requirements.txt (line 10)) (2.3.7)\n",
      "Requirement already satisfied: wheel>=0.26 in /Users/lukas/Library/jupyterlab-desktop/jlab_server/lib/python3.8/site-packages (from tensorboard->-r requirements.txt (line 10)) (0.41.1)\n",
      "Requirement already satisfied: jmespath<2.0.0,>=0.7.1 in /Users/lukas/Library/jupyterlab-desktop/jlab_server/lib/python3.8/site-packages (from boto3->-r requirements.txt (line 13)) (1.0.1)\n",
      "Requirement already satisfied: s3transfer<0.7.0,>=0.6.0 in /Users/lukas/Library/jupyterlab-desktop/jlab_server/lib/python3.8/site-packages (from boto3->-r requirements.txt (line 13)) (0.6.2)\n",
      "Requirement already satisfied: python-dateutil<3.0.0,>=2.1 in /Users/lukas/Library/jupyterlab-desktop/jlab_server/lib/python3.8/site-packages (from botocore->-r requirements.txt (line 15)) (2.8.2)\n",
      "Requirement already satisfied: cachetools<6.0,>=2.0.0 in /Users/lukas/Library/jupyterlab-desktop/jlab_server/lib/python3.8/site-packages (from google-auth<3,>=1.6.3->tensorboard->-r requirements.txt (line 10)) (5.3.1)\n",
      "Requirement already satisfied: pyasn1-modules>=0.2.1 in /Users/lukas/Library/jupyterlab-desktop/jlab_server/lib/python3.8/site-packages (from google-auth<3,>=1.6.3->tensorboard->-r requirements.txt (line 10)) (0.3.0)\n",
      "Requirement already satisfied: rsa<5,>=3.1.4 in /Users/lukas/Library/jupyterlab-desktop/jlab_server/lib/python3.8/site-packages (from google-auth<3,>=1.6.3->tensorboard->-r requirements.txt (line 10)) (4.9)\n",
      "Requirement already satisfied: six>=1.9.0 in /Users/lukas/Library/jupyterlab-desktop/jlab_server/lib/python3.8/site-packages (from google-auth<3,>=1.6.3->tensorboard->-r requirements.txt (line 10)) (1.16.0)\n",
      "Requirement already satisfied: requests-oauthlib>=0.7.0 in /Users/lukas/Library/jupyterlab-desktop/jlab_server/lib/python3.8/site-packages (from google-auth-oauthlib<1.1,>=0.5->tensorboard->-r requirements.txt (line 10)) (1.3.1)\n",
      "Requirement already satisfied: fsspec in /Users/lukas/Library/jupyterlab-desktop/jlab_server/lib/python3.8/site-packages (from huggingface-hub<1.0,>=0.15.1->transformers>=4.2.2->-r requirements.txt (line 9)) (2023.6.0)\n",
      "Requirement already satisfied: importlib-metadata>=4.4 in /Users/lukas/Library/jupyterlab-desktop/jlab_server/lib/python3.8/site-packages (from markdown>=2.6.8->tensorboard->-r requirements.txt (line 10)) (6.8.0)\n",
      "Requirement already satisfied: MarkupSafe>=2.1.1 in /Users/lukas/Library/jupyterlab-desktop/jlab_server/lib/python3.8/site-packages (from werkzeug>=1.0.1->tensorboard->-r requirements.txt (line 10)) (2.1.3)\n",
      "Requirement already satisfied: mpmath>=0.19 in /Users/lukas/Library/jupyterlab-desktop/jlab_server/lib/python3.8/site-packages (from sympy->torch>=1.12.1->-r requirements.txt (line 2)) (1.3.0)\n",
      "Requirement already satisfied: zipp>=0.5 in /Users/lukas/Library/jupyterlab-desktop/jlab_server/lib/python3.8/site-packages (from importlib-metadata>=4.4->markdown>=2.6.8->tensorboard->-r requirements.txt (line 10)) (3.16.2)\n",
      "Requirement already satisfied: pyasn1<0.6.0,>=0.4.6 in /Users/lukas/Library/jupyterlab-desktop/jlab_server/lib/python3.8/site-packages (from pyasn1-modules>=0.2.1->google-auth<3,>=1.6.3->tensorboard->-r requirements.txt (line 10)) (0.5.0)\n",
      "Requirement already satisfied: oauthlib>=3.0.0 in /Users/lukas/Library/jupyterlab-desktop/jlab_server/lib/python3.8/site-packages (from requests-oauthlib>=0.7.0->google-auth-oauthlib<1.1,>=0.5->tensorboard->-r requirements.txt (line 10)) (3.2.2)\n",
      "Note: you may need to restart the kernel to use updated packages.\n"
     ]
    }
   ],
   "source": [
    "pip install -r requirements.txt"
   ]
  },
  {
   "cell_type": "code",
   "execution_count": 2,
   "id": "7ec93b88-7cfe-4024-8d32-79ab002c15d1",
   "metadata": {
    "tags": []
   },
   "outputs": [],
   "source": [
    "import os\n",
    "\n",
    "if 'PYTHONPATH' in os.environ:\n",
    "    os.environ['PYTHONPATH'] += ':src'\n",
    "else:\n",
    "    os.environ['PYTHONPATH'] = 'src'\n"
   ]
  },
  {
   "cell_type": "code",
   "execution_count": 3,
   "id": "3e7f94f4-aa5e-4d24-b27e-88921812a642",
   "metadata": {},
   "outputs": [
    {
     "name": "stdout",
     "output_type": "stream",
     "text": [
      "src\n"
     ]
    }
   ],
   "source": [
    "print(os.environ.get('PYTHONPATH', 'PYTHONPATH not set'))"
   ]
  },
  {
   "cell_type": "code",
   "execution_count": 4,
   "id": "90f98bcd-b02f-4aa9-b950-2d57f6eed7ed",
   "metadata": {},
   "outputs": [
    {
     "name": "stdout",
     "output_type": "stream",
     "text": [
      "Collecting https://github.com/amazon-science/ReFinED/archive/refs/tags/V1.zip\n",
      "  Using cached https://github.com/amazon-science/ReFinED/archive/refs/tags/V1.zip\n",
      "  Preparing metadata (setup.py) ... \u001b[?25ldone\n",
      "\u001b[?25hRequirement already satisfied: pip in /Users/lukas/Library/jupyterlab-desktop/jlab_server/lib/python3.8/site-packages (23.2.1)\n",
      "Requirement already satisfied: install in /Users/lukas/Library/jupyterlab-desktop/jlab_server/lib/python3.8/site-packages (1.3.5)\n",
      "Requirement already satisfied: requests in /Users/lukas/Library/jupyterlab-desktop/jlab_server/lib/python3.8/site-packages (from ReFinED==1.0) (2.31.0)\n",
      "Requirement already satisfied: torch>=1.12.1 in /Users/lukas/Library/jupyterlab-desktop/jlab_server/lib/python3.8/site-packages (from ReFinED==1.0) (2.0.1)\n",
      "Requirement already satisfied: numpy>=1.15.4 in /Users/lukas/Library/jupyterlab-desktop/jlab_server/lib/python3.8/site-packages (from ReFinED==1.0) (1.24.4)\n",
      "Requirement already satisfied: nltk>=3.5 in /Users/lukas/Library/jupyterlab-desktop/jlab_server/lib/python3.8/site-packages (from ReFinED==1.0) (3.8.1)\n",
      "Requirement already satisfied: urllib3>=1.25.8 in /Users/lukas/Library/jupyterlab-desktop/jlab_server/lib/python3.8/site-packages (from ReFinED==1.0) (1.26.16)\n",
      "Requirement already satisfied: Unidecode>=1.1.1 in /Users/lukas/Library/jupyterlab-desktop/jlab_server/lib/python3.8/site-packages (from ReFinED==1.0) (1.3.6)\n",
      "Requirement already satisfied: ujson in /Users/lukas/Library/jupyterlab-desktop/jlab_server/lib/python3.8/site-packages (from ReFinED==1.0) (5.8.0)\n",
      "Requirement already satisfied: tqdm in /Users/lukas/Library/jupyterlab-desktop/jlab_server/lib/python3.8/site-packages (from ReFinED==1.0) (4.66.1)\n",
      "Requirement already satisfied: transformers>=4.2.2 in /Users/lukas/Library/jupyterlab-desktop/jlab_server/lib/python3.8/site-packages (from ReFinED==1.0) (4.32.1)\n",
      "Requirement already satisfied: tensorboard in /Users/lukas/Library/jupyterlab-desktop/jlab_server/lib/python3.8/site-packages (from ReFinED==1.0) (2.14.0)\n",
      "Requirement already satisfied: Cython in /Users/lukas/Library/jupyterlab-desktop/jlab_server/lib/python3.8/site-packages (from ReFinED==1.0) (3.0.2)\n",
      "Requirement already satisfied: lmdb>=1.0 in /Users/lukas/Library/jupyterlab-desktop/jlab_server/lib/python3.8/site-packages (from ReFinED==1.0) (1.4.1)\n",
      "Requirement already satisfied: boto3 in /Users/lukas/Library/jupyterlab-desktop/jlab_server/lib/python3.8/site-packages (from ReFinED==1.0) (1.28.36)\n",
      "Requirement already satisfied: prettyprint in /Users/lukas/Library/jupyterlab-desktop/jlab_server/lib/python3.8/site-packages (from ReFinED==1.0) (0.1.5)\n",
      "Requirement already satisfied: botocore in /Users/lukas/Library/jupyterlab-desktop/jlab_server/lib/python3.8/site-packages (from ReFinED==1.0) (1.31.36)\n",
      "Requirement already satisfied: click in /Users/lukas/Library/jupyterlab-desktop/jlab_server/lib/python3.8/site-packages (from nltk>=3.5->ReFinED==1.0) (8.1.7)\n",
      "Requirement already satisfied: joblib in /Users/lukas/Library/jupyterlab-desktop/jlab_server/lib/python3.8/site-packages (from nltk>=3.5->ReFinED==1.0) (1.3.2)\n",
      "Requirement already satisfied: regex>=2021.8.3 in /Users/lukas/Library/jupyterlab-desktop/jlab_server/lib/python3.8/site-packages (from nltk>=3.5->ReFinED==1.0) (2023.8.8)\n",
      "Requirement already satisfied: filelock in /Users/lukas/Library/jupyterlab-desktop/jlab_server/lib/python3.8/site-packages (from torch>=1.12.1->ReFinED==1.0) (3.12.3)\n",
      "Requirement already satisfied: typing-extensions in /Users/lukas/Library/jupyterlab-desktop/jlab_server/lib/python3.8/site-packages (from torch>=1.12.1->ReFinED==1.0) (4.7.1)\n",
      "Requirement already satisfied: sympy in /Users/lukas/Library/jupyterlab-desktop/jlab_server/lib/python3.8/site-packages (from torch>=1.12.1->ReFinED==1.0) (1.12)\n",
      "Requirement already satisfied: networkx in /Users/lukas/Library/jupyterlab-desktop/jlab_server/lib/python3.8/site-packages (from torch>=1.12.1->ReFinED==1.0) (3.1)\n",
      "Requirement already satisfied: jinja2 in /Users/lukas/Library/jupyterlab-desktop/jlab_server/lib/python3.8/site-packages (from torch>=1.12.1->ReFinED==1.0) (3.1.2)\n",
      "Requirement already satisfied: huggingface-hub<1.0,>=0.15.1 in /Users/lukas/Library/jupyterlab-desktop/jlab_server/lib/python3.8/site-packages (from transformers>=4.2.2->ReFinED==1.0) (0.16.4)\n",
      "Requirement already satisfied: packaging>=20.0 in /Users/lukas/Library/jupyterlab-desktop/jlab_server/lib/python3.8/site-packages (from transformers>=4.2.2->ReFinED==1.0) (23.1)\n",
      "Requirement already satisfied: pyyaml>=5.1 in /Users/lukas/Library/jupyterlab-desktop/jlab_server/lib/python3.8/site-packages (from transformers>=4.2.2->ReFinED==1.0) (6.0)\n",
      "Requirement already satisfied: tokenizers!=0.11.3,<0.14,>=0.11.1 in /Users/lukas/Library/jupyterlab-desktop/jlab_server/lib/python3.8/site-packages (from transformers>=4.2.2->ReFinED==1.0) (0.13.3)\n",
      "Requirement already satisfied: safetensors>=0.3.1 in /Users/lukas/Library/jupyterlab-desktop/jlab_server/lib/python3.8/site-packages (from transformers>=4.2.2->ReFinED==1.0) (0.3.3)\n",
      "Requirement already satisfied: jmespath<2.0.0,>=0.7.1 in /Users/lukas/Library/jupyterlab-desktop/jlab_server/lib/python3.8/site-packages (from boto3->ReFinED==1.0) (1.0.1)\n",
      "Requirement already satisfied: s3transfer<0.7.0,>=0.6.0 in /Users/lukas/Library/jupyterlab-desktop/jlab_server/lib/python3.8/site-packages (from boto3->ReFinED==1.0) (0.6.2)\n",
      "Requirement already satisfied: python-dateutil<3.0.0,>=2.1 in /Users/lukas/Library/jupyterlab-desktop/jlab_server/lib/python3.8/site-packages (from botocore->ReFinED==1.0) (2.8.2)\n",
      "Requirement already satisfied: charset-normalizer<4,>=2 in /Users/lukas/Library/jupyterlab-desktop/jlab_server/lib/python3.8/site-packages (from requests->ReFinED==1.0) (3.2.0)\n",
      "Requirement already satisfied: idna<4,>=2.5 in /Users/lukas/Library/jupyterlab-desktop/jlab_server/lib/python3.8/site-packages (from requests->ReFinED==1.0) (3.4)\n",
      "Requirement already satisfied: certifi>=2017.4.17 in /Users/lukas/Library/jupyterlab-desktop/jlab_server/lib/python3.8/site-packages (from requests->ReFinED==1.0) (2023.7.22)\n",
      "Requirement already satisfied: absl-py>=0.4 in /Users/lukas/Library/jupyterlab-desktop/jlab_server/lib/python3.8/site-packages (from tensorboard->ReFinED==1.0) (1.4.0)\n",
      "Requirement already satisfied: grpcio>=1.48.2 in /Users/lukas/Library/jupyterlab-desktop/jlab_server/lib/python3.8/site-packages (from tensorboard->ReFinED==1.0) (1.57.0)\n",
      "Requirement already satisfied: google-auth<3,>=1.6.3 in /Users/lukas/Library/jupyterlab-desktop/jlab_server/lib/python3.8/site-packages (from tensorboard->ReFinED==1.0) (2.22.0)\n",
      "Requirement already satisfied: google-auth-oauthlib<1.1,>=0.5 in /Users/lukas/Library/jupyterlab-desktop/jlab_server/lib/python3.8/site-packages (from tensorboard->ReFinED==1.0) (1.0.0)\n",
      "Requirement already satisfied: markdown>=2.6.8 in /Users/lukas/Library/jupyterlab-desktop/jlab_server/lib/python3.8/site-packages (from tensorboard->ReFinED==1.0) (3.4.4)\n",
      "Requirement already satisfied: protobuf>=3.19.6 in /Users/lukas/Library/jupyterlab-desktop/jlab_server/lib/python3.8/site-packages (from tensorboard->ReFinED==1.0) (4.24.2)\n",
      "Requirement already satisfied: setuptools>=41.0.0 in /Users/lukas/Library/jupyterlab-desktop/jlab_server/lib/python3.8/site-packages (from tensorboard->ReFinED==1.0) (68.0.0)\n",
      "Requirement already satisfied: tensorboard-data-server<0.8.0,>=0.7.0 in /Users/lukas/Library/jupyterlab-desktop/jlab_server/lib/python3.8/site-packages (from tensorboard->ReFinED==1.0) (0.7.1)\n",
      "Requirement already satisfied: werkzeug>=1.0.1 in /Users/lukas/Library/jupyterlab-desktop/jlab_server/lib/python3.8/site-packages (from tensorboard->ReFinED==1.0) (2.3.7)\n",
      "Requirement already satisfied: wheel>=0.26 in /Users/lukas/Library/jupyterlab-desktop/jlab_server/lib/python3.8/site-packages (from tensorboard->ReFinED==1.0) (0.41.1)\n",
      "Requirement already satisfied: cachetools<6.0,>=2.0.0 in /Users/lukas/Library/jupyterlab-desktop/jlab_server/lib/python3.8/site-packages (from google-auth<3,>=1.6.3->tensorboard->ReFinED==1.0) (5.3.1)\n",
      "Requirement already satisfied: pyasn1-modules>=0.2.1 in /Users/lukas/Library/jupyterlab-desktop/jlab_server/lib/python3.8/site-packages (from google-auth<3,>=1.6.3->tensorboard->ReFinED==1.0) (0.3.0)\n",
      "Requirement already satisfied: rsa<5,>=3.1.4 in /Users/lukas/Library/jupyterlab-desktop/jlab_server/lib/python3.8/site-packages (from google-auth<3,>=1.6.3->tensorboard->ReFinED==1.0) (4.9)\n",
      "Requirement already satisfied: six>=1.9.0 in /Users/lukas/Library/jupyterlab-desktop/jlab_server/lib/python3.8/site-packages (from google-auth<3,>=1.6.3->tensorboard->ReFinED==1.0) (1.16.0)\n",
      "Requirement already satisfied: requests-oauthlib>=0.7.0 in /Users/lukas/Library/jupyterlab-desktop/jlab_server/lib/python3.8/site-packages (from google-auth-oauthlib<1.1,>=0.5->tensorboard->ReFinED==1.0) (1.3.1)\n",
      "Requirement already satisfied: fsspec in /Users/lukas/Library/jupyterlab-desktop/jlab_server/lib/python3.8/site-packages (from huggingface-hub<1.0,>=0.15.1->transformers>=4.2.2->ReFinED==1.0) (2023.6.0)\n",
      "Requirement already satisfied: importlib-metadata>=4.4 in /Users/lukas/Library/jupyterlab-desktop/jlab_server/lib/python3.8/site-packages (from markdown>=2.6.8->tensorboard->ReFinED==1.0) (6.8.0)\n",
      "Requirement already satisfied: MarkupSafe>=2.1.1 in /Users/lukas/Library/jupyterlab-desktop/jlab_server/lib/python3.8/site-packages (from werkzeug>=1.0.1->tensorboard->ReFinED==1.0) (2.1.3)\n",
      "Requirement already satisfied: mpmath>=0.19 in /Users/lukas/Library/jupyterlab-desktop/jlab_server/lib/python3.8/site-packages (from sympy->torch>=1.12.1->ReFinED==1.0) (1.3.0)\n",
      "Requirement already satisfied: zipp>=0.5 in /Users/lukas/Library/jupyterlab-desktop/jlab_server/lib/python3.8/site-packages (from importlib-metadata>=4.4->markdown>=2.6.8->tensorboard->ReFinED==1.0) (3.16.2)\n",
      "Requirement already satisfied: pyasn1<0.6.0,>=0.4.6 in /Users/lukas/Library/jupyterlab-desktop/jlab_server/lib/python3.8/site-packages (from pyasn1-modules>=0.2.1->google-auth<3,>=1.6.3->tensorboard->ReFinED==1.0) (0.5.0)\n",
      "Requirement already satisfied: oauthlib>=3.0.0 in /Users/lukas/Library/jupyterlab-desktop/jlab_server/lib/python3.8/site-packages (from requests-oauthlib>=0.7.0->google-auth-oauthlib<1.1,>=0.5->tensorboard->ReFinED==1.0) (3.2.2)\n"
     ]
    }
   ],
   "source": [
    "!pip install pip install https://github.com/amazon-science/ReFinED/archive/refs/tags/V1.zip"
   ]
  },
  {
   "cell_type": "markdown",
   "id": "9ce24522-c09a-4120-8683-dd6d97b941b9",
   "metadata": {},
   "source": [
    "## Pretrained Model"
   ]
  },
  {
   "cell_type": "code",
   "execution_count": null,
   "id": "15fac2f2-316f-468c-9d51-4c5d14f538bc",
   "metadata": {},
   "outputs": [],
   "source": [
    "from refined.inference.processor import Refined\n",
    "\n",
    "\n",
    "refined = Refined.from_pretrained(model_name='wikipedia_model',\n",
    "                                  entity_set=\"wikipedia\",\n",
    "                                 download_files = True)\n",
    "\n",
    "spans = refined.process_text(\"England won the FIFA World Cup in 1966.\")\n",
    "\n",
    "print(spans)"
   ]
  },
  {
   "cell_type": "code",
   "execution_count": null,
   "id": "1dd2475e-443f-4035-9334-564902f04d8e",
   "metadata": {},
   "outputs": [],
   "source": []
  }
 ],
 "metadata": {
  "kernelspec": {
   "display_name": "Python 3 (ipykernel)",
   "language": "python",
   "name": "python3"
  },
  "language_info": {
   "codemirror_mode": {
    "name": "ipython",
    "version": 3
   },
   "file_extension": ".py",
   "mimetype": "text/x-python",
   "name": "python",
   "nbconvert_exporter": "python",
   "pygments_lexer": "ipython3",
   "version": "3.8.17"
  }
 },
 "nbformat": 4,
 "nbformat_minor": 5
}
