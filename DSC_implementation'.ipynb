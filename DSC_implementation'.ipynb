{
 "cells": [
  {
   "cell_type": "markdown",
   "id": "1667ee42-c6e1-4aa0-b6f7-8b5a0ea8f4aa",
   "metadata": {},
   "source": [
    "## Installing Dependencies"
   ]
  },
  {
   "cell_type": "code",
   "execution_count": 1,
   "id": "cf3a8e20-a25a-4a5c-bd97-999bed107816",
   "metadata": {},
   "outputs": [
    {
     "name": "stdout",
     "output_type": "stream",
     "text": [
      "Requirement already satisfied: requests in /Users/lukas/Library/jupyterlab-desktop/jlab_server/lib/python3.8/site-packages (from -r requirements.txt (line 1)) (2.31.0)\n",
      "Requirement already satisfied: torch>=1.12.1 in /Users/lukas/Library/jupyterlab-desktop/jlab_server/lib/python3.8/site-packages (from -r requirements.txt (line 2)) (2.0.1)\n",
      "Requirement already satisfied: numpy>=1.15.4 in /Users/lukas/Library/jupyterlab-desktop/jlab_server/lib/python3.8/site-packages (from -r requirements.txt (line 3)) (1.24.4)\n",
      "Requirement already satisfied: nltk>=3.5 in /Users/lukas/Library/jupyterlab-desktop/jlab_server/lib/python3.8/site-packages (from -r requirements.txt (line 4)) (3.8.1)\n",
      "Requirement already satisfied: urllib3>=1.25.8 in /Users/lukas/Library/jupyterlab-desktop/jlab_server/lib/python3.8/site-packages (from -r requirements.txt (line 5)) (1.26.16)\n",
      "Requirement already satisfied: Unidecode>=1.1.1 in /Users/lukas/Library/jupyterlab-desktop/jlab_server/lib/python3.8/site-packages (from -r requirements.txt (line 6)) (1.3.6)\n",
      "Requirement already satisfied: ujson in /Users/lukas/Library/jupyterlab-desktop/jlab_server/lib/python3.8/site-packages (from -r requirements.txt (line 7)) (5.8.0)\n",
      "Requirement already satisfied: tqdm in /Users/lukas/Library/jupyterlab-desktop/jlab_server/lib/python3.8/site-packages (from -r requirements.txt (line 8)) (4.66.1)\n",
      "Requirement already satisfied: transformers>=4.2.2 in /Users/lukas/Library/jupyterlab-desktop/jlab_server/lib/python3.8/site-packages (from -r requirements.txt (line 9)) (4.32.1)\n",
      "Requirement already satisfied: tensorboard in /Users/lukas/Library/jupyterlab-desktop/jlab_server/lib/python3.8/site-packages (from -r requirements.txt (line 10)) (2.14.0)\n",
      "Requirement already satisfied: Cython in /Users/lukas/Library/jupyterlab-desktop/jlab_server/lib/python3.8/site-packages (from -r requirements.txt (line 11)) (3.0.2)\n",
      "Requirement already satisfied: lmdb>=1.0 in /Users/lukas/Library/jupyterlab-desktop/jlab_server/lib/python3.8/site-packages (from -r requirements.txt (line 12)) (1.4.1)\n",
      "Requirement already satisfied: boto3 in /Users/lukas/Library/jupyterlab-desktop/jlab_server/lib/python3.8/site-packages (from -r requirements.txt (line 13)) (1.28.36)\n",
      "Requirement already satisfied: prettyprint in /Users/lukas/Library/jupyterlab-desktop/jlab_server/lib/python3.8/site-packages (from -r requirements.txt (line 14)) (0.1.5)\n",
      "Requirement already satisfied: botocore in /Users/lukas/Library/jupyterlab-desktop/jlab_server/lib/python3.8/site-packages (from -r requirements.txt (line 15)) (1.31.36)\n",
      "Requirement already satisfied: charset-normalizer<4,>=2 in /Users/lukas/Library/jupyterlab-desktop/jlab_server/lib/python3.8/site-packages (from requests->-r requirements.txt (line 1)) (3.2.0)\n",
      "Requirement already satisfied: idna<4,>=2.5 in /Users/lukas/Library/jupyterlab-desktop/jlab_server/lib/python3.8/site-packages (from requests->-r requirements.txt (line 1)) (3.4)\n",
      "Requirement already satisfied: certifi>=2017.4.17 in /Users/lukas/Library/jupyterlab-desktop/jlab_server/lib/python3.8/site-packages (from requests->-r requirements.txt (line 1)) (2023.7.22)\n",
      "Requirement already satisfied: filelock in /Users/lukas/Library/jupyterlab-desktop/jlab_server/lib/python3.8/site-packages (from torch>=1.12.1->-r requirements.txt (line 2)) (3.12.3)\n",
      "Requirement already satisfied: typing-extensions in /Users/lukas/Library/jupyterlab-desktop/jlab_server/lib/python3.8/site-packages (from torch>=1.12.1->-r requirements.txt (line 2)) (4.7.1)\n",
      "Requirement already satisfied: sympy in /Users/lukas/Library/jupyterlab-desktop/jlab_server/lib/python3.8/site-packages (from torch>=1.12.1->-r requirements.txt (line 2)) (1.12)\n",
      "Requirement already satisfied: networkx in /Users/lukas/Library/jupyterlab-desktop/jlab_server/lib/python3.8/site-packages (from torch>=1.12.1->-r requirements.txt (line 2)) (3.1)\n",
      "Requirement already satisfied: jinja2 in /Users/lukas/Library/jupyterlab-desktop/jlab_server/lib/python3.8/site-packages (from torch>=1.12.1->-r requirements.txt (line 2)) (3.1.2)\n",
      "Requirement already satisfied: click in /Users/lukas/Library/jupyterlab-desktop/jlab_server/lib/python3.8/site-packages (from nltk>=3.5->-r requirements.txt (line 4)) (8.1.7)\n",
      "Requirement already satisfied: joblib in /Users/lukas/Library/jupyterlab-desktop/jlab_server/lib/python3.8/site-packages (from nltk>=3.5->-r requirements.txt (line 4)) (1.3.2)\n",
      "Requirement already satisfied: regex>=2021.8.3 in /Users/lukas/Library/jupyterlab-desktop/jlab_server/lib/python3.8/site-packages (from nltk>=3.5->-r requirements.txt (line 4)) (2023.8.8)\n",
      "Requirement already satisfied: huggingface-hub<1.0,>=0.15.1 in /Users/lukas/Library/jupyterlab-desktop/jlab_server/lib/python3.8/site-packages (from transformers>=4.2.2->-r requirements.txt (line 9)) (0.16.4)\n",
      "Requirement already satisfied: packaging>=20.0 in /Users/lukas/Library/jupyterlab-desktop/jlab_server/lib/python3.8/site-packages (from transformers>=4.2.2->-r requirements.txt (line 9)) (23.1)\n",
      "Requirement already satisfied: pyyaml>=5.1 in /Users/lukas/Library/jupyterlab-desktop/jlab_server/lib/python3.8/site-packages (from transformers>=4.2.2->-r requirements.txt (line 9)) (6.0)\n",
      "Requirement already satisfied: tokenizers!=0.11.3,<0.14,>=0.11.1 in /Users/lukas/Library/jupyterlab-desktop/jlab_server/lib/python3.8/site-packages (from transformers>=4.2.2->-r requirements.txt (line 9)) (0.13.3)\n",
      "Requirement already satisfied: safetensors>=0.3.1 in /Users/lukas/Library/jupyterlab-desktop/jlab_server/lib/python3.8/site-packages (from transformers>=4.2.2->-r requirements.txt (line 9)) (0.3.3)\n",
      "Requirement already satisfied: absl-py>=0.4 in /Users/lukas/Library/jupyterlab-desktop/jlab_server/lib/python3.8/site-packages (from tensorboard->-r requirements.txt (line 10)) (1.4.0)\n",
      "Requirement already satisfied: grpcio>=1.48.2 in /Users/lukas/Library/jupyterlab-desktop/jlab_server/lib/python3.8/site-packages (from tensorboard->-r requirements.txt (line 10)) (1.57.0)\n",
      "Requirement already satisfied: google-auth<3,>=1.6.3 in /Users/lukas/Library/jupyterlab-desktop/jlab_server/lib/python3.8/site-packages (from tensorboard->-r requirements.txt (line 10)) (2.22.0)\n",
      "Requirement already satisfied: google-auth-oauthlib<1.1,>=0.5 in /Users/lukas/Library/jupyterlab-desktop/jlab_server/lib/python3.8/site-packages (from tensorboard->-r requirements.txt (line 10)) (1.0.0)\n",
      "Requirement already satisfied: markdown>=2.6.8 in /Users/lukas/Library/jupyterlab-desktop/jlab_server/lib/python3.8/site-packages (from tensorboard->-r requirements.txt (line 10)) (3.4.4)\n",
      "Requirement already satisfied: protobuf>=3.19.6 in /Users/lukas/Library/jupyterlab-desktop/jlab_server/lib/python3.8/site-packages (from tensorboard->-r requirements.txt (line 10)) (4.24.2)\n",
      "Requirement already satisfied: setuptools>=41.0.0 in /Users/lukas/Library/jupyterlab-desktop/jlab_server/lib/python3.8/site-packages (from tensorboard->-r requirements.txt (line 10)) (68.0.0)\n",
      "Requirement already satisfied: tensorboard-data-server<0.8.0,>=0.7.0 in /Users/lukas/Library/jupyterlab-desktop/jlab_server/lib/python3.8/site-packages (from tensorboard->-r requirements.txt (line 10)) (0.7.1)\n",
      "Requirement already satisfied: werkzeug>=1.0.1 in /Users/lukas/Library/jupyterlab-desktop/jlab_server/lib/python3.8/site-packages (from tensorboard->-r requirements.txt (line 10)) (2.3.7)\n",
      "Requirement already satisfied: wheel>=0.26 in /Users/lukas/Library/jupyterlab-desktop/jlab_server/lib/python3.8/site-packages (from tensorboard->-r requirements.txt (line 10)) (0.41.1)\n",
      "Requirement already satisfied: jmespath<2.0.0,>=0.7.1 in /Users/lukas/Library/jupyterlab-desktop/jlab_server/lib/python3.8/site-packages (from boto3->-r requirements.txt (line 13)) (1.0.1)\n",
      "Requirement already satisfied: s3transfer<0.7.0,>=0.6.0 in /Users/lukas/Library/jupyterlab-desktop/jlab_server/lib/python3.8/site-packages (from boto3->-r requirements.txt (line 13)) (0.6.2)\n",
      "Requirement already satisfied: python-dateutil<3.0.0,>=2.1 in /Users/lukas/Library/jupyterlab-desktop/jlab_server/lib/python3.8/site-packages (from botocore->-r requirements.txt (line 15)) (2.8.2)\n",
      "Requirement already satisfied: cachetools<6.0,>=2.0.0 in /Users/lukas/Library/jupyterlab-desktop/jlab_server/lib/python3.8/site-packages (from google-auth<3,>=1.6.3->tensorboard->-r requirements.txt (line 10)) (5.3.1)\n",
      "Requirement already satisfied: pyasn1-modules>=0.2.1 in /Users/lukas/Library/jupyterlab-desktop/jlab_server/lib/python3.8/site-packages (from google-auth<3,>=1.6.3->tensorboard->-r requirements.txt (line 10)) (0.3.0)\n",
      "Requirement already satisfied: rsa<5,>=3.1.4 in /Users/lukas/Library/jupyterlab-desktop/jlab_server/lib/python3.8/site-packages (from google-auth<3,>=1.6.3->tensorboard->-r requirements.txt (line 10)) (4.9)\n",
      "Requirement already satisfied: six>=1.9.0 in /Users/lukas/Library/jupyterlab-desktop/jlab_server/lib/python3.8/site-packages (from google-auth<3,>=1.6.3->tensorboard->-r requirements.txt (line 10)) (1.16.0)\n",
      "Requirement already satisfied: requests-oauthlib>=0.7.0 in /Users/lukas/Library/jupyterlab-desktop/jlab_server/lib/python3.8/site-packages (from google-auth-oauthlib<1.1,>=0.5->tensorboard->-r requirements.txt (line 10)) (1.3.1)\n",
      "Requirement already satisfied: fsspec in /Users/lukas/Library/jupyterlab-desktop/jlab_server/lib/python3.8/site-packages (from huggingface-hub<1.0,>=0.15.1->transformers>=4.2.2->-r requirements.txt (line 9)) (2023.6.0)\n",
      "Requirement already satisfied: importlib-metadata>=4.4 in /Users/lukas/Library/jupyterlab-desktop/jlab_server/lib/python3.8/site-packages (from markdown>=2.6.8->tensorboard->-r requirements.txt (line 10)) (6.8.0)\n",
      "Requirement already satisfied: MarkupSafe>=2.1.1 in /Users/lukas/Library/jupyterlab-desktop/jlab_server/lib/python3.8/site-packages (from werkzeug>=1.0.1->tensorboard->-r requirements.txt (line 10)) (2.1.3)\n",
      "Requirement already satisfied: mpmath>=0.19 in /Users/lukas/Library/jupyterlab-desktop/jlab_server/lib/python3.8/site-packages (from sympy->torch>=1.12.1->-r requirements.txt (line 2)) (1.3.0)\n",
      "Requirement already satisfied: zipp>=0.5 in /Users/lukas/Library/jupyterlab-desktop/jlab_server/lib/python3.8/site-packages (from importlib-metadata>=4.4->markdown>=2.6.8->tensorboard->-r requirements.txt (line 10)) (3.16.2)\n",
      "Requirement already satisfied: pyasn1<0.6.0,>=0.4.6 in /Users/lukas/Library/jupyterlab-desktop/jlab_server/lib/python3.8/site-packages (from pyasn1-modules>=0.2.1->google-auth<3,>=1.6.3->tensorboard->-r requirements.txt (line 10)) (0.5.0)\n",
      "Requirement already satisfied: oauthlib>=3.0.0 in /Users/lukas/Library/jupyterlab-desktop/jlab_server/lib/python3.8/site-packages (from requests-oauthlib>=0.7.0->google-auth-oauthlib<1.1,>=0.5->tensorboard->-r requirements.txt (line 10)) (3.2.2)\n",
      "Note: you may need to restart the kernel to use updated packages.\n"
     ]
    }
   ],
   "source": [
    "pip install -r requirements.txt"
   ]
  },
  {
   "cell_type": "code",
   "execution_count": 3,
   "id": "7ec93b88-7cfe-4024-8d32-79ab002c15d1",
   "metadata": {
    "tags": []
   },
   "outputs": [],
   "source": [
    "import os\n",
    "\n",
    "if 'PYTHONPATH' in os.environ:\n",
    "    os.environ['PYTHONPATH'] += ':src'\n",
    "else:\n",
    "    os.environ['PYTHONPATH'] = 'src'\n"
   ]
  },
  {
   "cell_type": "code",
   "execution_count": 4,
   "id": "3e7f94f4-aa5e-4d24-b27e-88921812a642",
   "metadata": {},
   "outputs": [
    {
     "name": "stdout",
     "output_type": "stream",
     "text": [
      "src:src\n"
     ]
    }
   ],
   "source": [
    "print(os.environ.get('PYTHONPATH', 'PYTHONPATH not set'))"
   ]
  },
  {
   "cell_type": "code",
   "execution_count": 5,
   "id": "90f98bcd-b02f-4aa9-b950-2d57f6eed7ed",
   "metadata": {},
   "outputs": [
    {
     "name": "stdout",
     "output_type": "stream",
     "text": [
      "Collecting https://github.com/amazon-science/ReFinED/archive/refs/tags/V1.zip\n",
      "  Using cached https://github.com/amazon-science/ReFinED/archive/refs/tags/V1.zip\n",
      "  Preparing metadata (setup.py) ... \u001b[?25ldone\n",
      "\u001b[?25hRequirement already satisfied: pip in /Users/lukas/Library/jupyterlab-desktop/jlab_server/lib/python3.8/site-packages (23.2.1)\n",
      "Requirement already satisfied: install in /Users/lukas/Library/jupyterlab-desktop/jlab_server/lib/python3.8/site-packages (1.3.5)\n",
      "Requirement already satisfied: requests in /Users/lukas/Library/jupyterlab-desktop/jlab_server/lib/python3.8/site-packages (from ReFinED==1.0) (2.31.0)\n",
      "Requirement already satisfied: torch>=1.12.1 in /Users/lukas/Library/jupyterlab-desktop/jlab_server/lib/python3.8/site-packages (from ReFinED==1.0) (2.0.1)\n",
      "Requirement already satisfied: numpy>=1.15.4 in /Users/lukas/Library/jupyterlab-desktop/jlab_server/lib/python3.8/site-packages (from ReFinED==1.0) (1.24.4)\n",
      "Requirement already satisfied: nltk>=3.5 in /Users/lukas/Library/jupyterlab-desktop/jlab_server/lib/python3.8/site-packages (from ReFinED==1.0) (3.8.1)\n",
      "Requirement already satisfied: urllib3>=1.25.8 in /Users/lukas/Library/jupyterlab-desktop/jlab_server/lib/python3.8/site-packages (from ReFinED==1.0) (1.26.16)\n",
      "Requirement already satisfied: Unidecode>=1.1.1 in /Users/lukas/Library/jupyterlab-desktop/jlab_server/lib/python3.8/site-packages (from ReFinED==1.0) (1.3.6)\n",
      "Requirement already satisfied: ujson in /Users/lukas/Library/jupyterlab-desktop/jlab_server/lib/python3.8/site-packages (from ReFinED==1.0) (5.8.0)\n",
      "Requirement already satisfied: tqdm in /Users/lukas/Library/jupyterlab-desktop/jlab_server/lib/python3.8/site-packages (from ReFinED==1.0) (4.66.1)\n",
      "Requirement already satisfied: transformers>=4.2.2 in /Users/lukas/Library/jupyterlab-desktop/jlab_server/lib/python3.8/site-packages (from ReFinED==1.0) (4.32.1)\n",
      "Requirement already satisfied: tensorboard in /Users/lukas/Library/jupyterlab-desktop/jlab_server/lib/python3.8/site-packages (from ReFinED==1.0) (2.14.0)\n",
      "Requirement already satisfied: Cython in /Users/lukas/Library/jupyterlab-desktop/jlab_server/lib/python3.8/site-packages (from ReFinED==1.0) (3.0.2)\n",
      "Requirement already satisfied: lmdb>=1.0 in /Users/lukas/Library/jupyterlab-desktop/jlab_server/lib/python3.8/site-packages (from ReFinED==1.0) (1.4.1)\n",
      "Requirement already satisfied: boto3 in /Users/lukas/Library/jupyterlab-desktop/jlab_server/lib/python3.8/site-packages (from ReFinED==1.0) (1.28.36)\n",
      "Requirement already satisfied: prettyprint in /Users/lukas/Library/jupyterlab-desktop/jlab_server/lib/python3.8/site-packages (from ReFinED==1.0) (0.1.5)\n",
      "Requirement already satisfied: botocore in /Users/lukas/Library/jupyterlab-desktop/jlab_server/lib/python3.8/site-packages (from ReFinED==1.0) (1.31.36)\n",
      "Requirement already satisfied: click in /Users/lukas/Library/jupyterlab-desktop/jlab_server/lib/python3.8/site-packages (from nltk>=3.5->ReFinED==1.0) (8.1.7)\n",
      "Requirement already satisfied: joblib in /Users/lukas/Library/jupyterlab-desktop/jlab_server/lib/python3.8/site-packages (from nltk>=3.5->ReFinED==1.0) (1.3.2)\n",
      "Requirement already satisfied: regex>=2021.8.3 in /Users/lukas/Library/jupyterlab-desktop/jlab_server/lib/python3.8/site-packages (from nltk>=3.5->ReFinED==1.0) (2023.8.8)\n",
      "Requirement already satisfied: filelock in /Users/lukas/Library/jupyterlab-desktop/jlab_server/lib/python3.8/site-packages (from torch>=1.12.1->ReFinED==1.0) (3.12.3)\n",
      "Requirement already satisfied: typing-extensions in /Users/lukas/Library/jupyterlab-desktop/jlab_server/lib/python3.8/site-packages (from torch>=1.12.1->ReFinED==1.0) (4.7.1)\n",
      "Requirement already satisfied: sympy in /Users/lukas/Library/jupyterlab-desktop/jlab_server/lib/python3.8/site-packages (from torch>=1.12.1->ReFinED==1.0) (1.12)\n",
      "Requirement already satisfied: networkx in /Users/lukas/Library/jupyterlab-desktop/jlab_server/lib/python3.8/site-packages (from torch>=1.12.1->ReFinED==1.0) (3.1)\n",
      "Requirement already satisfied: jinja2 in /Users/lukas/Library/jupyterlab-desktop/jlab_server/lib/python3.8/site-packages (from torch>=1.12.1->ReFinED==1.0) (3.1.2)\n",
      "Requirement already satisfied: huggingface-hub<1.0,>=0.15.1 in /Users/lukas/Library/jupyterlab-desktop/jlab_server/lib/python3.8/site-packages (from transformers>=4.2.2->ReFinED==1.0) (0.16.4)\n",
      "Requirement already satisfied: packaging>=20.0 in /Users/lukas/Library/jupyterlab-desktop/jlab_server/lib/python3.8/site-packages (from transformers>=4.2.2->ReFinED==1.0) (23.1)\n",
      "Requirement already satisfied: pyyaml>=5.1 in /Users/lukas/Library/jupyterlab-desktop/jlab_server/lib/python3.8/site-packages (from transformers>=4.2.2->ReFinED==1.0) (6.0)\n",
      "Requirement already satisfied: tokenizers!=0.11.3,<0.14,>=0.11.1 in /Users/lukas/Library/jupyterlab-desktop/jlab_server/lib/python3.8/site-packages (from transformers>=4.2.2->ReFinED==1.0) (0.13.3)\n",
      "Requirement already satisfied: safetensors>=0.3.1 in /Users/lukas/Library/jupyterlab-desktop/jlab_server/lib/python3.8/site-packages (from transformers>=4.2.2->ReFinED==1.0) (0.3.3)\n",
      "Requirement already satisfied: jmespath<2.0.0,>=0.7.1 in /Users/lukas/Library/jupyterlab-desktop/jlab_server/lib/python3.8/site-packages (from boto3->ReFinED==1.0) (1.0.1)\n",
      "Requirement already satisfied: s3transfer<0.7.0,>=0.6.0 in /Users/lukas/Library/jupyterlab-desktop/jlab_server/lib/python3.8/site-packages (from boto3->ReFinED==1.0) (0.6.2)\n",
      "Requirement already satisfied: python-dateutil<3.0.0,>=2.1 in /Users/lukas/Library/jupyterlab-desktop/jlab_server/lib/python3.8/site-packages (from botocore->ReFinED==1.0) (2.8.2)\n",
      "Requirement already satisfied: charset-normalizer<4,>=2 in /Users/lukas/Library/jupyterlab-desktop/jlab_server/lib/python3.8/site-packages (from requests->ReFinED==1.0) (3.2.0)\n",
      "Requirement already satisfied: idna<4,>=2.5 in /Users/lukas/Library/jupyterlab-desktop/jlab_server/lib/python3.8/site-packages (from requests->ReFinED==1.0) (3.4)\n",
      "Requirement already satisfied: certifi>=2017.4.17 in /Users/lukas/Library/jupyterlab-desktop/jlab_server/lib/python3.8/site-packages (from requests->ReFinED==1.0) (2023.7.22)\n",
      "Requirement already satisfied: absl-py>=0.4 in /Users/lukas/Library/jupyterlab-desktop/jlab_server/lib/python3.8/site-packages (from tensorboard->ReFinED==1.0) (1.4.0)\n",
      "Requirement already satisfied: grpcio>=1.48.2 in /Users/lukas/Library/jupyterlab-desktop/jlab_server/lib/python3.8/site-packages (from tensorboard->ReFinED==1.0) (1.57.0)\n",
      "Requirement already satisfied: google-auth<3,>=1.6.3 in /Users/lukas/Library/jupyterlab-desktop/jlab_server/lib/python3.8/site-packages (from tensorboard->ReFinED==1.0) (2.22.0)\n",
      "Requirement already satisfied: google-auth-oauthlib<1.1,>=0.5 in /Users/lukas/Library/jupyterlab-desktop/jlab_server/lib/python3.8/site-packages (from tensorboard->ReFinED==1.0) (1.0.0)\n",
      "Requirement already satisfied: markdown>=2.6.8 in /Users/lukas/Library/jupyterlab-desktop/jlab_server/lib/python3.8/site-packages (from tensorboard->ReFinED==1.0) (3.4.4)\n",
      "Requirement already satisfied: protobuf>=3.19.6 in /Users/lukas/Library/jupyterlab-desktop/jlab_server/lib/python3.8/site-packages (from tensorboard->ReFinED==1.0) (4.24.2)\n",
      "Requirement already satisfied: setuptools>=41.0.0 in /Users/lukas/Library/jupyterlab-desktop/jlab_server/lib/python3.8/site-packages (from tensorboard->ReFinED==1.0) (68.0.0)\n",
      "Requirement already satisfied: tensorboard-data-server<0.8.0,>=0.7.0 in /Users/lukas/Library/jupyterlab-desktop/jlab_server/lib/python3.8/site-packages (from tensorboard->ReFinED==1.0) (0.7.1)\n",
      "Requirement already satisfied: werkzeug>=1.0.1 in /Users/lukas/Library/jupyterlab-desktop/jlab_server/lib/python3.8/site-packages (from tensorboard->ReFinED==1.0) (2.3.7)\n",
      "Requirement already satisfied: wheel>=0.26 in /Users/lukas/Library/jupyterlab-desktop/jlab_server/lib/python3.8/site-packages (from tensorboard->ReFinED==1.0) (0.41.1)\n",
      "Requirement already satisfied: cachetools<6.0,>=2.0.0 in /Users/lukas/Library/jupyterlab-desktop/jlab_server/lib/python3.8/site-packages (from google-auth<3,>=1.6.3->tensorboard->ReFinED==1.0) (5.3.1)\n",
      "Requirement already satisfied: pyasn1-modules>=0.2.1 in /Users/lukas/Library/jupyterlab-desktop/jlab_server/lib/python3.8/site-packages (from google-auth<3,>=1.6.3->tensorboard->ReFinED==1.0) (0.3.0)\n",
      "Requirement already satisfied: rsa<5,>=3.1.4 in /Users/lukas/Library/jupyterlab-desktop/jlab_server/lib/python3.8/site-packages (from google-auth<3,>=1.6.3->tensorboard->ReFinED==1.0) (4.9)\n",
      "Requirement already satisfied: six>=1.9.0 in /Users/lukas/Library/jupyterlab-desktop/jlab_server/lib/python3.8/site-packages (from google-auth<3,>=1.6.3->tensorboard->ReFinED==1.0) (1.16.0)\n",
      "Requirement already satisfied: requests-oauthlib>=0.7.0 in /Users/lukas/Library/jupyterlab-desktop/jlab_server/lib/python3.8/site-packages (from google-auth-oauthlib<1.1,>=0.5->tensorboard->ReFinED==1.0) (1.3.1)\n",
      "Requirement already satisfied: fsspec in /Users/lukas/Library/jupyterlab-desktop/jlab_server/lib/python3.8/site-packages (from huggingface-hub<1.0,>=0.15.1->transformers>=4.2.2->ReFinED==1.0) (2023.6.0)\n",
      "Requirement already satisfied: importlib-metadata>=4.4 in /Users/lukas/Library/jupyterlab-desktop/jlab_server/lib/python3.8/site-packages (from markdown>=2.6.8->tensorboard->ReFinED==1.0) (6.8.0)\n",
      "Requirement already satisfied: MarkupSafe>=2.1.1 in /Users/lukas/Library/jupyterlab-desktop/jlab_server/lib/python3.8/site-packages (from werkzeug>=1.0.1->tensorboard->ReFinED==1.0) (2.1.3)\n",
      "Requirement already satisfied: mpmath>=0.19 in /Users/lukas/Library/jupyterlab-desktop/jlab_server/lib/python3.8/site-packages (from sympy->torch>=1.12.1->ReFinED==1.0) (1.3.0)\n",
      "Requirement already satisfied: zipp>=0.5 in /Users/lukas/Library/jupyterlab-desktop/jlab_server/lib/python3.8/site-packages (from importlib-metadata>=4.4->markdown>=2.6.8->tensorboard->ReFinED==1.0) (3.16.2)\n",
      "Requirement already satisfied: pyasn1<0.6.0,>=0.4.6 in /Users/lukas/Library/jupyterlab-desktop/jlab_server/lib/python3.8/site-packages (from pyasn1-modules>=0.2.1->google-auth<3,>=1.6.3->tensorboard->ReFinED==1.0) (0.5.0)\n",
      "Requirement already satisfied: oauthlib>=3.0.0 in /Users/lukas/Library/jupyterlab-desktop/jlab_server/lib/python3.8/site-packages (from requests-oauthlib>=0.7.0->google-auth-oauthlib<1.1,>=0.5->tensorboard->ReFinED==1.0) (3.2.2)\n"
     ]
    }
   ],
   "source": [
    "!pip install pip install https://github.com/amazon-science/ReFinED/archive/refs/tags/V1.zip"
   ]
  },
  {
   "cell_type": "markdown",
   "id": "9ce24522-c09a-4120-8683-dd6d97b941b9",
   "metadata": {},
   "source": [
    "## Pretrained Model"
   ]
  },
  {
   "cell_type": "code",
   "execution_count": 2,
   "id": "1dd2475e-443f-4035-9334-564902f04d8e",
   "metadata": {},
   "outputs": [
    {
     "name": "stdout",
     "output_type": "stream",
     "text": [
      "Done loading in Model\n"
     ]
    }
   ],
   "source": [
    "from refined.inference.processor import Refined\n",
    "refined = Refined.from_pretrained(model_name='wikipedia_model',\n",
    "                                  entity_set=\"wikipedia\",\n",
    "                                  use_precomputed_descriptions = True,\n",
    "                                 download_files = True)\n",
    "print(\"Done loading in Model\")"
   ]
  },
  {
   "cell_type": "code",
   "execution_count": null,
   "id": "5fe54f5e-241b-41a9-a22e-dd034bab117e",
   "metadata": {},
   "outputs": [],
   "source": [
    "spans = refined.process_text('In 2006, soon after receiving the news that he would become UCLA’s next chancellor, Gene Block and his wife, Carol, finished their meal with a fortune cookie. The message?', apply_class_check = True)"
   ]
  },
  {
   "cell_type": "code",
   "execution_count": null,
   "id": "2cd60bd9-a813-4e2b-8725-08cd765f7745",
   "metadata": {},
   "outputs": [],
   "source": [
    "print('test"
   ]
  },
  {
   "cell_type": "code",
   "execution_count": 7,
   "id": "7e7c07e5-452b-4ba3-9e9e-af770c2cb99f",
   "metadata": {},
   "outputs": [
    {
     "data": {
      "text/plain": [
       "<Signature (text: str, spans: Union[List[refined.data_types.base_types.Span], NoneType] = None, ner_threshold: float = 0.5, prune_ner_types: bool = True, max_batch_size: int = 16, apply_class_check: bool = False, return_special_spans: bool = True) -> List[refined.data_types.base_types.Span]>"
      ]
     },
     "execution_count": 7,
     "metadata": {},
     "output_type": "execute_result"
    }
   ],
   "source": [
    "import inspect\n",
    "inspect.signature(refined.process_text)"
   ]
  },
  {
   "cell_type": "code",
   "execution_count": 3,
   "id": "e08cef06-1d8e-41b3-b20d-a55c116d76bb",
   "metadata": {},
   "outputs": [],
   "source": [
    "object_methods = [method_name for method_name in dir(refined)\n",
    "                  if callable(getattr(refined, method_name))]"
   ]
  },
  {
   "cell_type": "code",
   "execution_count": 4,
   "id": "f9062d54-06bd-430a-a3ae-6fbca41e9cfd",
   "metadata": {},
   "outputs": [
    {
     "data": {
      "text/plain": [
       "['__class__',\n",
       " '__delattr__',\n",
       " '__dir__',\n",
       " '__eq__',\n",
       " '__format__',\n",
       " '__ge__',\n",
       " '__getattribute__',\n",
       " '__gt__',\n",
       " '__hash__',\n",
       " '__init__',\n",
       " '__init_subclass__',\n",
       " '__le__',\n",
       " '__lt__',\n",
       " '__ne__',\n",
       " '__new__',\n",
       " '__reduce__',\n",
       " '__reduce_ex__',\n",
       " '__repr__',\n",
       " '__setattr__',\n",
       " '__sizeof__',\n",
       " '__str__',\n",
       " '__subclasshook__',\n",
       " '_prune_span_ner',\n",
       " '_prune_spans_ner',\n",
       " 'from_pretrained',\n",
       " 'model',\n",
       " 'precompute_description_embeddings',\n",
       " 'process_tensors',\n",
       " 'process_text',\n",
       " 'process_text_batch',\n",
       " 'sort_tensor']"
      ]
     },
     "execution_count": 4,
     "metadata": {},
     "output_type": "execute_result"
    }
   ],
   "source": [
    "object"
   ]
  },
  {
   "cell_type": "code",
   "execution_count": null,
   "id": "66625dd6-f411-4397-a5ed-f9a1e628af71",
   "metadata": {},
   "outputs": [],
   "source": [
    "refined.process_text(\"testing\")"
   ]
  },
  {
   "cell_type": "code",
   "execution_count": null,
   "id": "0e2556c8-2ba9-4144-afa7-eecb6f342ee2",
   "metadata": {},
   "outputs": [
    {
     "name": "stderr",
     "output_type": "stream",
     "text": [
      "Downloading /Users/lukas/.cache/refined/datasets/aida_test.json: 100%|██████████| 889k/889k [00:00<00:00, 1.36MB/s]\n",
      "Downloading /Users/lukas/.cache/refined/datasets/aida_dev.json: 100%|██████████| 957k/957k [00:00<00:00, 2.52MB/s]\n",
      "Downloading /Users/lukas/.cache/refined/datasets/aida_train.json: 100%|██████████| 3.74M/3.74M [00:00<00:00, 5.65MB/s]\n",
      "Downloading /Users/lukas/.cache/refined/datasets/ace2004_parsed.json: 100%|██████████| 109k/109k [00:00<00:00, 422kB/s]\n",
      "Downloading /Users/lukas/.cache/refined/datasets/aquaint_parsed.json: 100%|██████████| 136k/136k [00:00<00:00, 389kB/s]\n",
      "Downloading /Users/lukas/.cache/refined/datasets/clueweb_parsed.json: 100%|██████████| 3.46M/3.46M [00:00<00:00, 8.24MB/s]\n",
      "Downloading /Users/lukas/.cache/refined/datasets/msnbc_parsed.json: 100%|██████████| 130k/130k [00:00<00:00, 450kB/s]\n",
      "Downloading /Users/lukas/.cache/refined/datasets/wikipedia_parsed.json: 100%|██████████| 1.16M/1.16M [00:00<00:00, 4.66MB/s]\n",
      "Downloading /Users/lukas/.cache/refined/datasets/ontonotes_development_articles.json: 100%|██████████| 2.48M/2.48M [00:00<00:00, 4.60MB/s]\n",
      "Downloading /Users/lukas/.cache/refined/datasets/ontonotes_train_articles.json: 100%|██████████| 19.7M/19.7M [00:01<00:00, 13.9MB/s]\n",
      "Downloading /Users/lukas/.cache/refined/datasets/ontonotes_test_articles.json: 100%|██████████| 2.57M/2.57M [00:00<00:00, 3.97MB/s]\n",
      "Downloading /Users/lukas/.cache/refined/datasets/conll_dev.txt: 100%|██████████| 827k/827k [00:00<00:00, 2.96MB/s]\n",
      "Downloading /Users/lukas/.cache/refined/datasets/conll_test.txt: 100%|██████████| 748k/748k [00:00<00:00, 2.44MB/s]\n",
      "Downloading /Users/lukas/.cache/refined/datasets/conll_train.txt: 100%|██████████| 3.28M/3.28M [00:00<00:00, 6.68MB/s]\n",
      "Downloading /Users/lukas/.cache/refined/datasets/webqsp_test_data_ner.json: 100%|██████████| 275k/275k [00:00<00:00, 1.02MB/s]\n",
      "Downloading /Users/lukas/.cache/refined/datasets/webqsp_training_data_ner.json: 100%|██████████| 535k/535k [00:00<00:00, 1.96MB/s]\n",
      "Downloading /Users/lukas/.cache/refined/datasets/webqsp_training_data_el.json: 100%|██████████| 4.10M/4.10M [00:00<00:00, 9.06MB/s]\n",
      "Downloading /Users/lukas/.cache/refined/datasets/webqsp_dev_data_el.json: 100%|██████████| 991k/991k [00:00<00:00, 3.57MB/s]\n",
      "Downloading /Users/lukas/.cache/refined/datasets/webqsp_test_data_el.json: 100%|██████████| 2.91M/2.91M [00:00<00:00, 6.37MB/s]\n",
      "Downloading /Users/lukas/.cache/refined/additional_data/redirects.lmdb: 100%|██████████| 779M/779M [00:13<00:00, 56.3MB/s] \n",
      "Downloading /Users/lukas/.cache/refined/additional_data/disambiguation_qcodes.txt: 100%|██████████| 14.0M/14.0M [00:06<00:00, 2.06MB/s]\n",
      "Downloading /Users/lukas/.cache/refined/additional_data/wiki_to_qcode.lmdb: 100%|██████████| 574M/574M [00:12<00:00, 46.6MB/s] \n",
      "Downloading /Users/lukas/.cache/refined/additional_data/qcode_to_label.lmdb: 100%|██████████| 2.20G/2.20G [00:29<00:00, 73.5MB/s]\n"
     ]
    },
    {
     "data": {
      "application/vnd.jupyter.widget-view+json": {
       "model_id": "c515d4ee49a446bfb938776edbe36fa6",
       "version_major": 2,
       "version_minor": 0
      },
      "text/plain": [
       "Evaluating on AIDA: 0it [00:00, ?it/s]"
      ]
     },
     "metadata": {},
     "output_type": "display_data"
    }
   ],
   "source": [
    "from refined.inference.processor import Refined\n",
    "from refined.evaluation.evaluation import eval_all\n",
    "\n",
    "refined = Refined.from_pretrained(model_name='wikipedia_model',\n",
    "                                  entity_set=\"wikipedia\")\n",
    "\n",
    "results_numbers = eval_all(refined=refined, el=False)"
   ]
  },
  {
   "cell_type": "code",
   "execution_count": null,
   "id": "e1dd82c1-aecd-4ec5-99ac-a0056c619cc8",
   "metadata": {},
   "outputs": [],
   "source": []
  },
  {
   "cell_type": "code",
   "execution_count": null,
   "id": "36b685ad-d6dc-4f3a-a72b-30a1d40f7800",
   "metadata": {},
   "outputs": [],
   "source": []
  }
 ],
 "metadata": {
  "kernelspec": {
   "display_name": "Python 3 (ipykernel)",
   "language": "python",
   "name": "python3"
  },
  "language_info": {
   "codemirror_mode": {
    "name": "ipython",
    "version": 3
   },
   "file_extension": ".py",
   "mimetype": "text/x-python",
   "name": "python",
   "nbconvert_exporter": "python",
   "pygments_lexer": "ipython3",
   "version": "3.8.17"
  }
 },
 "nbformat": 4,
 "nbformat_minor": 5
}
